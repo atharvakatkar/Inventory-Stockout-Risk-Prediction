{
 "cells": [
  {
   "cell_type": "code",
   "execution_count": 1,
   "id": "0d62d099",
   "metadata": {},
   "outputs": [],
   "source": [
    "import pandas as pd\n",
    "from datetime import datetime as dt\n",
    "import os"
   ]
  },
  {
   "cell_type": "code",
   "execution_count": 2,
   "id": "3d83938a",
   "metadata": {},
   "outputs": [],
   "source": [
    "# 1. SKU master\n",
    "sku_master = pd.DataFrame({\n",
    "    \"sku_id\" : [\"SKU001\", \"SKU002\", \"SKU003\", \"SKU004\", \"SKU005\"],\n",
    "    \"category\" : [\"Electronics\", \"Electronics\", \"Fashion\", \"Fashion\", \"Home\"],\n",
    "    \"subcategory\" : [\"Smartphones\", \"Laptops\", \"Shoes\", \"Jackets\", \"Kettles\"],\n",
    "    \"lead_time_default\" : [14, 21, 10, 7, 5]\n",
    "})"
   ]
  },
  {
   "cell_type": "code",
   "execution_count": 3,
   "id": "899196e1",
   "metadata": {},
   "outputs": [],
   "source": [
    "# 2. Suppliers\n",
    "suppliers = pd.DataFrame({\n",
    "    \"supplier_id\" : [\"SUP001\", \"SUP002\", \"SUP003\"],\n",
    "    \"supplier_name\" : [\"TechSource\", \"FashionHub\", \"HomeDirect\"],\n",
    "    \"lead_time_days_override\" : [12, None, 8]\n",
    "})\n",
    "\n",
    "suppliers[\"lead_time_days_override\"] = suppliers[\"lead_time_days_override\"].astype(\"Int64\")"
   ]
  },
  {
   "cell_type": "code",
   "execution_count": 4,
   "id": "7072a387",
   "metadata": {},
   "outputs": [],
   "source": [
    "# 3. Inventory\n",
    "inventory = pd.DataFrame({\n",
    "    \"sku_id\" : [\"SKU001\", \"SKU002\", \"SKU003\", \"SKU004\", \"SKU005\"],\n",
    "    \"warehouse_id\" : [\"WH1\", \"WH1\", \"WH2\", \"WH2\", \"WH3\"],\n",
    "    \"current_stock\" : [120, 80, 200, 50, 300],\n",
    "    \"reserved_stock\" : [10, 5, 20, 0, 15],\n",
    "    \"unit_cost\" : [450, 800, 40, 70, 25],\n",
    "    \"unit_price\" : [600, 1200, 60, 100, 40]\n",
    "})"
   ]
  },
  {
   "cell_type": "code",
   "execution_count": 5,
   "id": "6a72160f",
   "metadata": {},
   "outputs": [],
   "source": [
    "# 4. Purchase Orders\n",
    "purchase_orders = pd.DataFrame({\n",
    "    \"sku_id\" : [\"SKU001\", \"SKU002\", \"SKU003\", \"SKU004\", \"SKU005\"],\n",
    "    \"supplier_id\" : [\"SUP001\", \"SUP001\", \"SUP002\", \"SUP002\", \"SUP003\"],\n",
    "    \"po_date\" : [\"2025-07-01\", \"2025-07-05\", \"2025-07-02\", \"2025-07-03\", \"2025-07-01\"],\n",
    "    \"expected_delivery_date\" : [\"2025-07-15\", \"2025-07-26\", \"2025-07-12\", \"2025-07-10\", \"2025-07-09\"],\n",
    "    \"actual_delivery_date\" : [\"2025-07-14\", None, \"2025-07-11\", None, \"2025-07-08\"],\n",
    "    \"quantity_ordered\" : [100, 150, 200, 80, 120]\n",
    "})"
   ]
  },
  {
   "cell_type": "code",
   "execution_count": 6,
   "id": "1aa08a98",
   "metadata": {},
   "outputs": [],
   "source": [
    "# 5. Sales\n",
    "sales = pd.DataFrame({\n",
    "    \"order_date\" : [\"2025-07-01\", \"2025-07-01\", \"2025-07-02\", \"2025-07-02\", \"2025-07-03\"],\n",
    "    \"sku_id\" : [\"SKU001\", \"SKU002\", \"SKU003\", \"SKU004\", \"SKU005\"],\n",
    "    \"quantity_sold\" : [2, 1, 5, 3, 10],\n",
    "    \"unit_price\" : [600, 1200, 60, 100, 40],\n",
    "    \"warehouse_id\" : [\"WH1\", \"WH1\", \"WH2\", \"WH2\", \"WH3\"],\n",
    "    \"promotion_flag\" : [True, False, False, True, False]\n",
    "})"
   ]
  },
  {
   "cell_type": "code",
   "execution_count": 7,
   "id": "d349524f",
   "metadata": {},
   "outputs": [
    {
     "data": {
      "text/plain": [
       "'c:\\\\Users\\\\athar\\\\MyCodes\\\\Private\\\\GitHub\\\\Inventory-Stockout-Risk-Prediction\\\\notebooks'"
      ]
     },
     "execution_count": 7,
     "metadata": {},
     "output_type": "execute_result"
    }
   ],
   "source": [
    "os.getcwd()"
   ]
  },
  {
   "cell_type": "code",
   "execution_count": 8,
   "id": "7de8b0a4",
   "metadata": {},
   "outputs": [
    {
     "name": "stdout",
     "output_type": "stream",
     "text": [
      "Sample CSV files generated\n"
     ]
    }
   ],
   "source": [
    "# Save all as csv files\n",
    "\n",
    "output_dir = \"../data/sample_data/\"\n",
    "os.makedirs(output_dir, exist_ok=True)\n",
    "sku_master.to_csv(output_dir + \"sku_master.csv\", index=False)\n",
    "suppliers.to_csv(output_dir + \"suppliers.csv\", index=False)\n",
    "inventory.to_csv(output_dir + \"inventory.csv\", index=False)\n",
    "purchase_orders.to_csv(output_dir + \"purchase_orders.csv\", index=False)\n",
    "sales.to_csv(output_dir + \"sales.csv\", index=False)\n",
    "\n",
    "print(\"Sample CSV files generated\")"
   ]
  },
  {
   "cell_type": "code",
   "execution_count": 9,
   "id": "6ff2efd5",
   "metadata": {},
   "outputs": [
    {
     "data": {
      "text/plain": [
       "'c:\\\\Users\\\\athar\\\\MyCodes\\\\Private\\\\GitHub\\\\Inventory-Stockout-Risk-Prediction\\\\notebooks'"
      ]
     },
     "execution_count": 9,
     "metadata": {},
     "output_type": "execute_result"
    }
   ],
   "source": [
    "os.getcwd()"
   ]
  }
 ],
 "metadata": {
  "kernelspec": {
   "display_name": "Python 3",
   "language": "python",
   "name": "python3"
  },
  "language_info": {
   "codemirror_mode": {
    "name": "ipython",
    "version": 3
   },
   "file_extension": ".py",
   "mimetype": "text/x-python",
   "name": "python",
   "nbconvert_exporter": "python",
   "pygments_lexer": "ipython3",
   "version": "3.13.2"
  }
 },
 "nbformat": 4,
 "nbformat_minor": 5
}
