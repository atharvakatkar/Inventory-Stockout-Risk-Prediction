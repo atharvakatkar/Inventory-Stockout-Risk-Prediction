{
 "cells": [
  {
   "cell_type": "code",
   "execution_count": null,
   "id": "1d134f6a",
   "metadata": {
    "vscode": {
     "languageId": "plaintext"
    }
   },
   "outputs": [],
   "source": [
    "import pandas as pd\n",
    "import numpy as np\n",
    "from datetime import datetime, timedelta"
   ]
  }
 ],
 "metadata": {
  "language_info": {
   "name": "python"
  }
 },
 "nbformat": 4,
 "nbformat_minor": 5
}
