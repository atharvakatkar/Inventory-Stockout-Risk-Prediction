{
 "cells": [
  {
   "cell_type": "code",
   "execution_count": 1,
   "id": "1d134f6a",
   "metadata": {},
   "outputs": [],
   "source": [
    "import pandas as pd\n",
    "import numpy as np\n",
    "from datetime import datetime, timedelta\n",
    "import itertools\n",
    "import random"
   ]
  },
  {
   "cell_type": "code",
   "execution_count": 2,
   "id": "62811ed4",
   "metadata": {},
   "outputs": [],
   "source": [
    "np.random.seed(42)"
   ]
  },
  {
   "cell_type": "code",
   "execution_count": 3,
   "id": "41317c98",
   "metadata": {},
   "outputs": [],
   "source": [
    "output_dir = \"../data/synthetic_data/\""
   ]
  },
  {
   "cell_type": "code",
   "execution_count": 4,
   "id": "1bc39d15",
   "metadata": {},
   "outputs": [],
   "source": [
    "# SKU Master\n",
    "categories = ['Electronics', 'Fashion', 'Home', 'Toys', 'Sports', 'Beauty', 'Books', 'Automotive', 'Grocery', 'Garden']\n",
    "subcategories = {\n",
    "    'Electronics':['Smartphones','Laptops','Tablets'],\n",
    "    'Fashion':['Shoes','Jackets','Shirts'],\n",
    "    'Home':['Kettles','Furniture','Decor'],\n",
    "    'Toys':['Action Figures','Board Games','Puzzles'],\n",
    "    'Sports':['Bats','Balls','Gloves'],\n",
    "    'Beauty':['Skincare','Makeup','Perfume'],\n",
    "    'Books':['Fiction','Non-fiction','Comics'],\n",
    "    'Automotive':['Accessories','Tools','Parts'],\n",
    "    'Grocery':['Snacks','Beverages','Condiments'],\n",
    "    'Garden':['Tools','Plants','Decor']\n",
    "}\n",
    "\n",
    "sku_list = []\n",
    "for i in range(1,259):\n",
    "    cat = np.random.choice(categories)\n",
    "    subcat = np.random.choice(subcategories[cat])\n",
    "    lead_time = np.random.randint(5,31)\n",
    "    sku_list.append([f'SKU{i:03}', cat, subcat, lead_time])\n",
    "sku_master = pd.DataFrame(sku_list, columns=['sku_id', 'category', 'subcategory', 'lead_time_default'])\n",
    "sku_master.to_csv(output_dir + \"sku_master.csv\", index=False)"
   ]
  },
  {
   "cell_type": "code",
   "execution_count": 5,
   "id": "c6674fa4",
   "metadata": {},
   "outputs": [],
   "source": [
    "# Suppliers\n",
    "supplier_list = [f'SUP{i:03}' for i in range(1,16)]\n",
    "supplier_names = [f'Supplier_{i}' for i in range(1,16)]\n",
    "lead_time_override = [int(np.random.randint(5,30)) if np.random.rand() < 0.5 else None for _ in range(15)]\n",
    "suppliers = pd.DataFrame({'supplier_id':supplier_list, 'supplier_name':supplier_names, 'lead_time_days_override':lead_time_override})\n",
    "suppliers.to_csv(output_dir + \"suppliers.csv\", index=False)"
   ]
  },
  {
   "cell_type": "code",
   "execution_count": 6,
   "id": "6250b79d",
   "metadata": {},
   "outputs": [],
   "source": [
    "# Inventory\n",
    "skus = sku_master['sku_id'].tolist()\n",
    "warehouse_list = [f\"WH{i}\" for i in range(1, 16)]\n",
    "\n",
    "# Generate all possible SKU–Warehouse pairs\n",
    "all_pairs = list(itertools.product(skus, warehouse_list))\n",
    "\n",
    "# Randomly sample 550 unique pairs\n",
    "chosen_pairs = random.sample(all_pairs, 574)\n",
    "\n",
    "# Build inventory records with your richer logic\n",
    "inventory_list = []\n",
    "for sku, wh in chosen_pairs:\n",
    "    current_stock = np.random.randint(50, 1200)\n",
    "    reserved_stock = np.random.randint(0, current_stock // 5)\n",
    "    unit_cost = np.random.randint(10, 1000)\n",
    "    unit_price = int(unit_cost * 1.3 + np.random.randint(-5, 5))\n",
    "    inventory_list.append([sku, wh, current_stock, reserved_stock, unit_cost, unit_price])\n",
    "\n",
    "# Convert to DataFrame\n",
    "inventory = pd.DataFrame(\n",
    "    inventory_list,\n",
    "    columns=['sku_id', 'warehouse_id', 'current_stock', 'reserved_stock', 'unit_cost', 'unit_price']\n",
    ")\n",
    "\n",
    "# Save\n",
    "inventory.to_csv(output_dir + \"inventory.csv\", index=False)"
   ]
  },
  {
   "cell_type": "code",
   "execution_count": 7,
   "id": "cf37aaae",
   "metadata": {},
   "outputs": [],
   "source": [
    "# Supplier SKU mapping\n",
    "supplier_sku_map = []\n",
    "for sku in sku_master['sku_id']:\n",
    "    num_suppliers = np.random.randint(1,6)\n",
    "    chosen_suppliers = np.random.choice(suppliers['supplier_id'], num_suppliers, replace=False)\n",
    "    for sup in chosen_suppliers:\n",
    "        supplier_sku_map.append([sku, sup])\n",
    "supplier_sku_map = pd.DataFrame(supplier_sku_map, columns=['sku_id', 'supplier_id'])\n",
    "supplier_sku_map.to_csv(output_dir + \"supplier_sku_map.csv\", index=False)\n",
    "\n",
    "# Purchase Orders\n",
    "po_list = []\n",
    "for i in range(1,1679):\n",
    "    sku = np.random.choice(sku_master['sku_id'])\n",
    "    \n",
    "    # Get suppliers allowed for this SKU\n",
    "    possible_suppliers = supplier_sku_map.loc[supplier_sku_map['sku_id'] == sku, 'supplier_id'].tolist()\n",
    "    supplier = np.random.choice(possible_suppliers)\n",
    "    \n",
    "    po_date = datetime(2025,1,1) + timedelta(days=np.random.randint(0,180))\n",
    "    lead_time = sku_master.loc[sku_master['sku_id']==sku,'lead_time_default'].values[0]\n",
    "    exp_delivery = po_date + timedelta(days=int(lead_time + np.random.randint(-3,4)))\n",
    "    \n",
    "    if np.random.rand() < 0.8:\n",
    "        actual_delivery = exp_delivery + timedelta(days=np.random.randint(-1,5))\n",
    "        actual_delivery = actual_delivery.date()\n",
    "    else:\n",
    "        actual_delivery = None\n",
    "    \n",
    "    quantity_ordered = np.random.randint(100,2000)\n",
    "    po_list.append([sku, supplier, po_date.date(), exp_delivery.date(), actual_delivery, quantity_ordered])\n",
    "purchase_orders = pd.DataFrame(po_list, columns=['sku_id', 'supplier_id', 'po_date', 'expected_delivery_date', 'actual_delivery_date', 'quantity_ordered'])\n",
    "purchase_orders.to_csv(output_dir + \"purchase_orders.csv\", index=False)"
   ]
  },
  {
   "cell_type": "code",
   "execution_count": 8,
   "id": "6579a4e3",
   "metadata": {},
   "outputs": [],
   "source": [
    "sales_list = []\n",
    "start_date = datetime(2025,1,1)\n",
    "for _ in range(5656):\n",
    "    inv_row = inventory.sample(1).iloc[0]\n",
    "    sku = inv_row['sku_id']\n",
    "    wh = inv_row['warehouse_id']\n",
    "    date = start_date + timedelta(days=np.random.randint(0,180))\n",
    "    quantity_sold = np.random.randint(1,20)\n",
    "    unit_price = int(inv_row['unit_price'])\n",
    "    promotion_flag = np.random.rand()<0.2\n",
    "    sales_list.append([date.date(), sku, quantity_sold, unit_price, wh, promotion_flag])\n",
    "sales = pd.DataFrame(sales_list, columns=['order_date', 'sku_id', 'quantity_sold', 'unit_price', 'warehouse_id', 'promotion_flag'])\n",
    "sales.to_csv(output_dir + \"sales.csv\", index=False)"
   ]
  }
 ],
 "metadata": {
  "kernelspec": {
   "display_name": "Python 3",
   "language": "python",
   "name": "python3"
  },
  "language_info": {
   "codemirror_mode": {
    "name": "ipython",
    "version": 3
   },
   "file_extension": ".py",
   "mimetype": "text/x-python",
   "name": "python",
   "nbconvert_exporter": "python",
   "pygments_lexer": "ipython3",
   "version": "3.13.2"
  }
 },
 "nbformat": 4,
 "nbformat_minor": 5
}
