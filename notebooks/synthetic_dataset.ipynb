{
 "cells": [
  {
   "cell_type": "code",
   "execution_count": 2,
   "id": "1d134f6a",
   "metadata": {},
   "outputs": [],
   "source": [
    "import pandas as pd\n",
    "import numpy as np\n",
    "from datetime import datetime, timedelta"
   ]
  },
  {
   "cell_type": "code",
   "execution_count": 4,
   "id": "62811ed4",
   "metadata": {},
   "outputs": [],
   "source": [
    "np.random.seed(42)"
   ]
  },
  {
   "cell_type": "code",
   "execution_count": 7,
   "id": "41317c98",
   "metadata": {},
   "outputs": [],
   "source": [
    "output_dir = \"../data/synthetic_data/\""
   ]
  },
  {
   "cell_type": "code",
   "execution_count": null,
   "id": "1bc39d15",
   "metadata": {},
   "outputs": [],
   "source": [
    "# SKU Master\n",
    "categories = ['Electronics', 'Fashion', 'Home', 'Toys', 'Sports', 'Beauty', 'Books', 'Automotive', 'Grocery', 'Garden']\n",
    "subcategories = {\n",
    "    'Electronics':['Smartphones','Laptops','Tablets'],\n",
    "    'Fashion':['Shoes','Jackets','Shirts'],\n",
    "    'Home':['Kettles','Furniture','Decor'],\n",
    "    'Toys':['Action Figures','Board Games','Puzzles'],\n",
    "    'Sports':['Bats','Balls','Gloves'],\n",
    "    'Beauty':['Skincare','Makeup','Perfume'],\n",
    "    'Books':['Fiction','Non-fiction','Comics'],\n",
    "    'Automotive':['Accessories','Tools','Parts'],\n",
    "    'Grocery':['Snacks','Beverages','Condiments'],\n",
    "    'Garden':['Tools','Plants','Decor']\n",
    "}\n",
    "\n",
    "sku_list = []\n",
    "for i in range(1,201):\n",
    "    cat = np.random.choice(categories)\n",
    "    subcat = np.random.choice(subcategories[cat])\n",
    "    lead_time = np.random.randint(5,31)\n",
    "    sku_list.append([f'SKU{i:03}', cat, subcat, lead_time])\n",
    "sku_master = pd.DataFrame(sku_list, columns=['sku_id', 'category', 'subcategory', 'lead_time_default'])\n",
    "sku_master.to_csv(output_dir + \"sku_master.csv\", index=False)"
   ]
  },
  {
   "cell_type": "code",
   "execution_count": 9,
   "id": "c6674fa4",
   "metadata": {},
   "outputs": [],
   "source": [
    "# Suppliers\n",
    "supplier_list = [f'SUP{i:03}' for i in range(1,16)]\n",
    "supplier_names = [f'Supplier_{i}' for i in range(1,16)]\n",
    "lead_time_override = [int(np.random.randint(5,30)) if np.random.rand() < 0.5 else None for _ in range(15)]\n",
    "suppliers = pd.DataFrame({'supplier_id':supplier_list, 'supplier_name':supplier_names, 'lead_time_days_override':lead_time_override})\n",
    "suppliers.to_csv(output_dir + \"suppliers.csv\", index=False)"
   ]
  }
 ],
 "metadata": {
  "kernelspec": {
   "display_name": "Python 3",
   "language": "python",
   "name": "python3"
  },
  "language_info": {
   "codemirror_mode": {
    "name": "ipython",
    "version": 3
   },
   "file_extension": ".py",
   "mimetype": "text/x-python",
   "name": "python",
   "nbconvert_exporter": "python",
   "pygments_lexer": "ipython3",
   "version": "3.13.2"
  }
 },
 "nbformat": 4,
 "nbformat_minor": 5
}
